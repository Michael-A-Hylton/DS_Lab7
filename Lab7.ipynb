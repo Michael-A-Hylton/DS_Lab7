{
 "cells": [
  {
   "cell_type": "code",
   "execution_count": 1,
   "id": "3fad7c1a-ce28-44fc-bf07-afbeb94cb9dd",
   "metadata": {},
   "outputs": [],
   "source": [
    "import numpy as np"
   ]
  },
  {
   "cell_type": "code",
   "execution_count": 4,
   "id": "b5e105dc-b8c5-4abb-88d5-de787e77c087",
   "metadata": {},
   "outputs": [
    {
     "name": "stdout",
     "output_type": "stream",
     "text": [
      "[51 64  7 10 22 15 83 32 77 38]\n"
     ]
    }
   ],
   "source": [
    "v=np.random.randint(low=1, high=101, size=(10))\n",
    "print(v)"
   ]
  },
  {
   "cell_type": "code",
   "execution_count": 15,
   "id": "a6056b9d-e20a-4fdc-a1e7-b82cadad73d8",
   "metadata": {},
   "outputs": [
    {
     "name": "stdout",
     "output_type": "stream",
     "text": [
      "[51  7 15 83 77]\n"
     ]
    }
   ],
   "source": [
    "odd_v= v[v % 2 == 1]\n",
    "print(odd_v)"
   ]
  },
  {
   "cell_type": "code",
   "execution_count": 17,
   "id": "3a443561-6016-444f-b942-1a9b84062fa7",
   "metadata": {},
   "outputs": [
    {
     "name": "stdout",
     "output_type": "stream",
     "text": [
      "[38 77 32 83 15 22 10  7 64 51]\n"
     ]
    }
   ],
   "source": [
    "backwards_v=np.flip(v,0)\n",
    "print(backwards_v)"
   ]
  },
  {
   "cell_type": "code",
   "execution_count": 18,
   "id": "525f0892-cea1-4b43-9587-3bfb4d4534dc",
   "metadata": {},
   "outputs": [
    {
     "name": "stdout",
     "output_type": "stream",
     "text": [
      "200\n"
     ]
    }
   ],
   "source": [
    "a = np.array([1, 2, 3, 4, 5])\n",
    "b = a[1:4]\n",
    "b[0] = 200\n",
    "print(a[1])\n"
   ]
  },
  {
   "cell_type": "code",
   "execution_count": 21,
   "id": "ec8507c0-b716-4c66-88af-b1d95e43dfc4",
   "metadata": {},
   "outputs": [
    {
     "name": "stdout",
     "output_type": "stream",
     "text": [
      "[[48 34 20 44 77]\n",
      " [ 7 73 66 31 21]\n",
      " [32 78 86 15  9]\n",
      " [21 17 44 89 45]\n",
      " [77 55 51 54 58]]\n"
     ]
    }
   ],
   "source": [
    "m=np.random.randint(low=1, high=101, size=(5,5))\n",
    "print(m)"
   ]
  },
  {
   "cell_type": "code",
   "execution_count": 28,
   "id": "46d12e30-52e1-4833-9278-029bdbf37a0c",
   "metadata": {},
   "outputs": [
    {
     "name": "stdout",
     "output_type": "stream",
     "text": [
      "[[77 44 20 34 48]\n",
      " [21 31 66 73  7]\n",
      " [ 9 15 86 78 32]\n",
      " [45 89 44 17 21]\n",
      " [58 54 51 55 77]]\n"
     ]
    }
   ],
   "source": [
    "flipped_m = np.array([row[::-1] for row in m])\n",
    "print(flipped_m)"
   ]
  },
  {
   "cell_type": "code",
   "execution_count": 30,
   "id": "260eae01-25b4-4a65-8958-7e6412098097",
   "metadata": {},
   "outputs": [
    {
     "name": "stdout",
     "output_type": "stream",
     "text": [
      "[[77 55 51 54 58]\n",
      " [21 17 44 89 45]\n",
      " [32 78 86 15  9]\n",
      " [ 7 73 66 31 21]\n",
      " [48 34 20 44 77]]\n"
     ]
    }
   ],
   "source": [
    "reversed_m = np.flipud(m)\n",
    "print(flipped_m)"
   ]
  },
  {
   "cell_type": "code",
   "execution_count": 33,
   "id": "286a6405-b756-454e-b79f-87c326bb29e5",
   "metadata": {},
   "outputs": [
    {
     "name": "stdout",
     "output_type": "stream",
     "text": [
      "[[58 54 51 55 77]\n",
      " [45 89 44 17 21]\n",
      " [ 9 15 86 78 32]\n",
      " [21 31 66 73  7]\n",
      " [77 44 20 34 48]]\n"
     ]
    }
   ],
   "source": [
    "backwards_m=np.array([row[::-1] for row in flipped_m])\n",
    "print(backwards_m)"
   ]
  },
  {
   "cell_type": "code",
   "execution_count": 34,
   "id": "465fbc90-09fd-4c33-928d-54a1bc0bd8b8",
   "metadata": {},
   "outputs": [
    {
     "name": "stdout",
     "output_type": "stream",
     "text": [
      "[[73 66 31]\n",
      " [78 86 15]\n",
      " [17 44 89]]\n"
     ]
    }
   ],
   "source": [
    "snipped_m=np.array(m[1:-1, 1:-1])\n",
    "print(snipped_m)"
   ]
  },
  {
   "cell_type": "code",
   "execution_count": null,
   "id": "587dd8f3-d924-4dfb-b13a-ab9f7b77ec2a",
   "metadata": {},
   "outputs": [],
   "source": []
  }
 ],
 "metadata": {
  "kernelspec": {
   "display_name": "Python 3 (ipykernel)",
   "language": "python",
   "name": "python3"
  },
  "language_info": {
   "codemirror_mode": {
    "name": "ipython",
    "version": 3
   },
   "file_extension": ".py",
   "mimetype": "text/x-python",
   "name": "python",
   "nbconvert_exporter": "python",
   "pygments_lexer": "ipython3",
   "version": "3.12.5"
  }
 },
 "nbformat": 4,
 "nbformat_minor": 5
}
